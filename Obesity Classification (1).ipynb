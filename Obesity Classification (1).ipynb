{
 "cells": [
  {
   "cell_type": "markdown",
   "id": "b6d42fff-1df8-4953-b530-b8196e88b7b7",
   "metadata": {},
   "source": [
    "## Obesity Classification Project\n",
    "\n",
    "About Dataset: \n",
    "\n",
    "- This dataset contains information about the obesity classification of individuals. The data was collected from a variety of sources, including medical records, surveys, and self-reported data. The dataset includes the following columns:\n",
    "\n",
    "\n",
    "- ID: A unqiue identifier for each individual\n",
    "- Age: The age of the individual\n",
    "- Gender: The gender of the individual\n",
    "- Height: The height of the individual in centimeters\n",
    "- Weight: The weight of the individual in kilograms\n",
    "- BMI: The body mass index of the individual, calculated as weight divided by height squared\n",
    "- Label: The obesity classification of the individual, which can be one of the following: Normal, Overweight, Obese, Underweight"
   ]
  },
  {
   "cell_type": "markdown",
   "id": "cbb76081-5c2e-483f-bc40-5ddd7ae9b444",
   "metadata": {},
   "source": [
    "#### BMI distribution based on Age and Gender\n",
    "\n",
    "##### What is BMI?\n",
    "\n",
    "- Body Mass Index (BMI) is a person’s weight in kilograms divided by the square of height in meters. \n",
    "\n",
    "- A high BMI can indicate high body fatness. \n",
    "\n",
    "- BMI screens for weight categories that may lead to health problems, but it does not diagnose the body fatness or health of an individual."
   ]
  },
  {
   "cell_type": "markdown",
   "id": "b0e99cd7-f44c-4599-9881-6b3103b207b6",
   "metadata": {},
   "source": [
    "## Importing Libraries"
   ]
  },
  {
   "cell_type": "code",
   "execution_count": 4,
   "id": "87e4b98d-3116-4d6a-9c3f-b537da1f05d9",
   "metadata": {},
   "outputs": [],
   "source": [
    "import numpy as np\n",
    "import pandas as pd \n",
    "import seaborn as sns\n",
    "import matplotlib.pyplot as plt"
   ]
  },
  {
   "cell_type": "markdown",
   "id": "075cea1b-7a2c-42a2-aae6-cf6176bd99d2",
   "metadata": {},
   "source": [
    "## Read Data set"
   ]
  },
  {
   "cell_type": "code",
   "execution_count": 6,
   "id": "5aa12a7e-dc9e-48cc-a90b-44b7fd7337c5",
   "metadata": {},
   "outputs": [],
   "source": [
    "df_obesity = pd.read_csv('Obesity Classification.csv')\n"
   ]
  },
  {
   "cell_type": "markdown",
   "id": "7e1daf39-98e0-4cdb-863c-f5f049be00f6",
   "metadata": {},
   "source": [
    "Read first 5 rows in the dataset"
   ]
  },
  {
   "cell_type": "code",
   "execution_count": 8,
   "id": "c6b77e0f-f1aa-42f9-8f00-3f6388b60b60",
   "metadata": {},
   "outputs": [
    {
     "data": {
      "text/html": [
       "<div>\n",
       "<style scoped>\n",
       "    .dataframe tbody tr th:only-of-type {\n",
       "        vertical-align: middle;\n",
       "    }\n",
       "\n",
       "    .dataframe tbody tr th {\n",
       "        vertical-align: top;\n",
       "    }\n",
       "\n",
       "    .dataframe thead th {\n",
       "        text-align: right;\n",
       "    }\n",
       "</style>\n",
       "<table border=\"1\" class=\"dataframe\">\n",
       "  <thead>\n",
       "    <tr style=\"text-align: right;\">\n",
       "      <th></th>\n",
       "      <th>ID</th>\n",
       "      <th>Age</th>\n",
       "      <th>Gender</th>\n",
       "      <th>Height</th>\n",
       "      <th>Weight</th>\n",
       "      <th>BMI</th>\n",
       "      <th>Label</th>\n",
       "    </tr>\n",
       "  </thead>\n",
       "  <tbody>\n",
       "    <tr>\n",
       "      <th>0</th>\n",
       "      <td>1</td>\n",
       "      <td>25</td>\n",
       "      <td>Male</td>\n",
       "      <td>175</td>\n",
       "      <td>80</td>\n",
       "      <td>25.3</td>\n",
       "      <td>Normal Weight</td>\n",
       "    </tr>\n",
       "    <tr>\n",
       "      <th>1</th>\n",
       "      <td>2</td>\n",
       "      <td>30</td>\n",
       "      <td>Female</td>\n",
       "      <td>160</td>\n",
       "      <td>60</td>\n",
       "      <td>22.5</td>\n",
       "      <td>Normal Weight</td>\n",
       "    </tr>\n",
       "    <tr>\n",
       "      <th>2</th>\n",
       "      <td>3</td>\n",
       "      <td>35</td>\n",
       "      <td>Male</td>\n",
       "      <td>180</td>\n",
       "      <td>90</td>\n",
       "      <td>27.3</td>\n",
       "      <td>Overweight</td>\n",
       "    </tr>\n",
       "    <tr>\n",
       "      <th>3</th>\n",
       "      <td>4</td>\n",
       "      <td>40</td>\n",
       "      <td>Female</td>\n",
       "      <td>150</td>\n",
       "      <td>50</td>\n",
       "      <td>20.0</td>\n",
       "      <td>Underweight</td>\n",
       "    </tr>\n",
       "    <tr>\n",
       "      <th>4</th>\n",
       "      <td>5</td>\n",
       "      <td>45</td>\n",
       "      <td>Male</td>\n",
       "      <td>190</td>\n",
       "      <td>100</td>\n",
       "      <td>31.2</td>\n",
       "      <td>Obese</td>\n",
       "    </tr>\n",
       "    <tr>\n",
       "      <th>5</th>\n",
       "      <td>6</td>\n",
       "      <td>50</td>\n",
       "      <td>Female</td>\n",
       "      <td>140</td>\n",
       "      <td>40</td>\n",
       "      <td>16.7</td>\n",
       "      <td>Underweight</td>\n",
       "    </tr>\n",
       "    <tr>\n",
       "      <th>6</th>\n",
       "      <td>7</td>\n",
       "      <td>55</td>\n",
       "      <td>Male</td>\n",
       "      <td>200</td>\n",
       "      <td>110</td>\n",
       "      <td>34.2</td>\n",
       "      <td>Obese</td>\n",
       "    </tr>\n",
       "    <tr>\n",
       "      <th>7</th>\n",
       "      <td>8</td>\n",
       "      <td>60</td>\n",
       "      <td>Female</td>\n",
       "      <td>130</td>\n",
       "      <td>30</td>\n",
       "      <td>13.3</td>\n",
       "      <td>Underweight</td>\n",
       "    </tr>\n",
       "    <tr>\n",
       "      <th>8</th>\n",
       "      <td>9</td>\n",
       "      <td>65</td>\n",
       "      <td>Male</td>\n",
       "      <td>210</td>\n",
       "      <td>120</td>\n",
       "      <td>37.2</td>\n",
       "      <td>Obese</td>\n",
       "    </tr>\n",
       "    <tr>\n",
       "      <th>9</th>\n",
       "      <td>10</td>\n",
       "      <td>70</td>\n",
       "      <td>Female</td>\n",
       "      <td>120</td>\n",
       "      <td>20</td>\n",
       "      <td>10.0</td>\n",
       "      <td>Underweight</td>\n",
       "    </tr>\n",
       "    <tr>\n",
       "      <th>10</th>\n",
       "      <td>11</td>\n",
       "      <td>18</td>\n",
       "      <td>Male</td>\n",
       "      <td>175</td>\n",
       "      <td>70</td>\n",
       "      <td>23.4</td>\n",
       "      <td>Normal Weight</td>\n",
       "    </tr>\n",
       "    <tr>\n",
       "      <th>11</th>\n",
       "      <td>12</td>\n",
       "      <td>23</td>\n",
       "      <td>Female</td>\n",
       "      <td>160</td>\n",
       "      <td>50</td>\n",
       "      <td>20.0</td>\n",
       "      <td>Underweight</td>\n",
       "    </tr>\n",
       "    <tr>\n",
       "      <th>12</th>\n",
       "      <td>13</td>\n",
       "      <td>28</td>\n",
       "      <td>Male</td>\n",
       "      <td>180</td>\n",
       "      <td>80</td>\n",
       "      <td>25.3</td>\n",
       "      <td>Normal Weight</td>\n",
       "    </tr>\n",
       "    <tr>\n",
       "      <th>13</th>\n",
       "      <td>14</td>\n",
       "      <td>33</td>\n",
       "      <td>Female</td>\n",
       "      <td>150</td>\n",
       "      <td>60</td>\n",
       "      <td>22.5</td>\n",
       "      <td>Normal Weight</td>\n",
       "    </tr>\n",
       "    <tr>\n",
       "      <th>14</th>\n",
       "      <td>15</td>\n",
       "      <td>38</td>\n",
       "      <td>Male</td>\n",
       "      <td>190</td>\n",
       "      <td>90</td>\n",
       "      <td>27.3</td>\n",
       "      <td>Overweight</td>\n",
       "    </tr>\n",
       "    <tr>\n",
       "      <th>15</th>\n",
       "      <td>16</td>\n",
       "      <td>43</td>\n",
       "      <td>Female</td>\n",
       "      <td>140</td>\n",
       "      <td>50</td>\n",
       "      <td>20.0</td>\n",
       "      <td>Underweight</td>\n",
       "    </tr>\n",
       "    <tr>\n",
       "      <th>16</th>\n",
       "      <td>17</td>\n",
       "      <td>48</td>\n",
       "      <td>Male</td>\n",
       "      <td>200</td>\n",
       "      <td>100</td>\n",
       "      <td>31.2</td>\n",
       "      <td>Obese</td>\n",
       "    </tr>\n",
       "    <tr>\n",
       "      <th>17</th>\n",
       "      <td>19</td>\n",
       "      <td>53</td>\n",
       "      <td>Female</td>\n",
       "      <td>130</td>\n",
       "      <td>40</td>\n",
       "      <td>16.7</td>\n",
       "      <td>Underweight</td>\n",
       "    </tr>\n",
       "    <tr>\n",
       "      <th>18</th>\n",
       "      <td>20</td>\n",
       "      <td>58</td>\n",
       "      <td>Male</td>\n",
       "      <td>210</td>\n",
       "      <td>110</td>\n",
       "      <td>34.2</td>\n",
       "      <td>Obese</td>\n",
       "    </tr>\n",
       "    <tr>\n",
       "      <th>19</th>\n",
       "      <td>21</td>\n",
       "      <td>63</td>\n",
       "      <td>Female</td>\n",
       "      <td>120</td>\n",
       "      <td>30</td>\n",
       "      <td>13.3</td>\n",
       "      <td>Underweight</td>\n",
       "    </tr>\n",
       "    <tr>\n",
       "      <th>20</th>\n",
       "      <td>22</td>\n",
       "      <td>68</td>\n",
       "      <td>Male</td>\n",
       "      <td>175</td>\n",
       "      <td>80</td>\n",
       "      <td>25.3</td>\n",
       "      <td>Normal Weight</td>\n",
       "    </tr>\n",
       "    <tr>\n",
       "      <th>21</th>\n",
       "      <td>23</td>\n",
       "      <td>73</td>\n",
       "      <td>Female</td>\n",
       "      <td>160</td>\n",
       "      <td>60</td>\n",
       "      <td>22.5</td>\n",
       "      <td>Normal Weight</td>\n",
       "    </tr>\n",
       "    <tr>\n",
       "      <th>22</th>\n",
       "      <td>24</td>\n",
       "      <td>78</td>\n",
       "      <td>Male</td>\n",
       "      <td>180</td>\n",
       "      <td>90</td>\n",
       "      <td>27.3</td>\n",
       "      <td>Overweight</td>\n",
       "    </tr>\n",
       "    <tr>\n",
       "      <th>23</th>\n",
       "      <td>25</td>\n",
       "      <td>83</td>\n",
       "      <td>Female</td>\n",
       "      <td>150</td>\n",
       "      <td>50</td>\n",
       "      <td>20.0</td>\n",
       "      <td>Underweight</td>\n",
       "    </tr>\n",
       "    <tr>\n",
       "      <th>24</th>\n",
       "      <td>26</td>\n",
       "      <td>88</td>\n",
       "      <td>Male</td>\n",
       "      <td>190</td>\n",
       "      <td>100</td>\n",
       "      <td>31.2</td>\n",
       "      <td>Obese</td>\n",
       "    </tr>\n",
       "  </tbody>\n",
       "</table>\n",
       "</div>"
      ],
      "text/plain": [
       "    ID  Age  Gender  Height  Weight   BMI          Label\n",
       "0    1   25    Male     175      80  25.3  Normal Weight\n",
       "1    2   30  Female     160      60  22.5  Normal Weight\n",
       "2    3   35    Male     180      90  27.3     Overweight\n",
       "3    4   40  Female     150      50  20.0    Underweight\n",
       "4    5   45    Male     190     100  31.2          Obese\n",
       "5    6   50  Female     140      40  16.7    Underweight\n",
       "6    7   55    Male     200     110  34.2          Obese\n",
       "7    8   60  Female     130      30  13.3    Underweight\n",
       "8    9   65    Male     210     120  37.2          Obese\n",
       "9   10   70  Female     120      20  10.0    Underweight\n",
       "10  11   18    Male     175      70  23.4  Normal Weight\n",
       "11  12   23  Female     160      50  20.0    Underweight\n",
       "12  13   28    Male     180      80  25.3  Normal Weight\n",
       "13  14   33  Female     150      60  22.5  Normal Weight\n",
       "14  15   38    Male     190      90  27.3     Overweight\n",
       "15  16   43  Female     140      50  20.0    Underweight\n",
       "16  17   48    Male     200     100  31.2          Obese\n",
       "17  19   53  Female     130      40  16.7    Underweight\n",
       "18  20   58    Male     210     110  34.2          Obese\n",
       "19  21   63  Female     120      30  13.3    Underweight\n",
       "20  22   68    Male     175      80  25.3  Normal Weight\n",
       "21  23   73  Female     160      60  22.5  Normal Weight\n",
       "22  24   78    Male     180      90  27.3     Overweight\n",
       "23  25   83  Female     150      50  20.0    Underweight\n",
       "24  26   88    Male     190     100  31.2          Obese"
      ]
     },
     "execution_count": 8,
     "metadata": {},
     "output_type": "execute_result"
    }
   ],
   "source": [
    "df_obesity.head(25)"
   ]
  },
  {
   "cell_type": "markdown",
   "id": "226c98cd-84e3-47c1-b9e0-f0b3d4cb421e",
   "metadata": {},
   "source": [
    "## Initial Dataset Exploration"
   ]
  },
  {
   "cell_type": "code",
   "execution_count": 10,
   "id": "5b7746c3-e128-4a2d-bb2c-ea072d2ea43b",
   "metadata": {},
   "outputs": [
    {
     "name": "stdout",
     "output_type": "stream",
     "text": [
      "<class 'pandas.core.frame.DataFrame'>\n",
      "RangeIndex: 108 entries, 0 to 107\n",
      "Data columns (total 7 columns):\n",
      " #   Column  Non-Null Count  Dtype  \n",
      "---  ------  --------------  -----  \n",
      " 0   ID      108 non-null    int64  \n",
      " 1   Age     108 non-null    int64  \n",
      " 2   Gender  108 non-null    object \n",
      " 3   Height  108 non-null    int64  \n",
      " 4   Weight  108 non-null    int64  \n",
      " 5   BMI     108 non-null    float64\n",
      " 6   Label   108 non-null    object \n",
      "dtypes: float64(1), int64(4), object(2)\n",
      "memory usage: 6.0+ KB\n"
     ]
    }
   ],
   "source": [
    "df_obesity.info()"
   ]
  },
  {
   "cell_type": "code",
   "execution_count": 11,
   "id": "08171665-9ca2-4b3f-8232-e98856c670a5",
   "metadata": {},
   "outputs": [
    {
     "data": {
      "text/plain": [
       "ID        108\n",
       "Age       108\n",
       "Gender    108\n",
       "Height    108\n",
       "Weight    108\n",
       "BMI       108\n",
       "Label     108\n",
       "dtype: int64"
      ]
     },
     "execution_count": 11,
     "metadata": {},
     "output_type": "execute_result"
    }
   ],
   "source": [
    "df_obesity.isnull().count()"
   ]
  },
  {
   "cell_type": "code",
   "execution_count": 12,
   "id": "31b2af84-6bb8-4078-a1ee-a9712b8a6f97",
   "metadata": {},
   "outputs": [
    {
     "data": {
      "text/plain": [
       "Gender\n",
       "Male      56\n",
       "Female    52\n",
       "Name: count, dtype: int64"
      ]
     },
     "execution_count": 12,
     "metadata": {},
     "output_type": "execute_result"
    }
   ],
   "source": [
    "df_obesity.Gender.value_counts()"
   ]
  },
  {
   "cell_type": "markdown",
   "id": "e5d3718f-d993-4d26-80a4-1c711457c09b",
   "metadata": {},
   "source": [
    "The distribution of Gender is balanced"
   ]
  },
  {
   "cell_type": "code",
   "execution_count": 14,
   "id": "16d4e228-a06a-4861-b9d6-52502fcc1731",
   "metadata": {},
   "outputs": [
    {
     "data": {
      "text/plain": [
       "Label\n",
       "Underweight      47\n",
       "Normal Weight    29\n",
       "Overweight       20\n",
       "Obese            12\n",
       "Name: count, dtype: int64"
      ]
     },
     "execution_count": 14,
     "metadata": {},
     "output_type": "execute_result"
    }
   ],
   "source": [
    "df_obesity.Label.value_counts()"
   ]
  },
  {
   "cell_type": "markdown",
   "id": "6d29355f-4819-46f2-bfd5-81171074cfb5",
   "metadata": {},
   "source": [
    "Underweight has a higher amount than the other labels in the dataset"
   ]
  },
  {
   "cell_type": "markdown",
   "id": "1cc3887c-08b9-4899-b4df-f8df4d477c3c",
   "metadata": {},
   "source": [
    "## Numerical Variables\n",
    "\n",
    "This section will show the general statistics of the dataset"
   ]
  },
  {
   "cell_type": "code",
   "execution_count": 17,
   "id": "5e7c1cca-4636-4b59-ab7d-e20805fd95fb",
   "metadata": {},
   "outputs": [
    {
     "data": {
      "text/html": [
       "<div>\n",
       "<style scoped>\n",
       "    .dataframe tbody tr th:only-of-type {\n",
       "        vertical-align: middle;\n",
       "    }\n",
       "\n",
       "    .dataframe tbody tr th {\n",
       "        vertical-align: top;\n",
       "    }\n",
       "\n",
       "    .dataframe thead th {\n",
       "        text-align: right;\n",
       "    }\n",
       "</style>\n",
       "<table border=\"1\" class=\"dataframe\">\n",
       "  <thead>\n",
       "    <tr style=\"text-align: right;\">\n",
       "      <th></th>\n",
       "      <th>ID</th>\n",
       "      <th>Age</th>\n",
       "      <th>Height</th>\n",
       "      <th>Weight</th>\n",
       "      <th>BMI</th>\n",
       "    </tr>\n",
       "  </thead>\n",
       "  <tbody>\n",
       "    <tr>\n",
       "      <th>count</th>\n",
       "      <td>108.000000</td>\n",
       "      <td>108.000000</td>\n",
       "      <td>108.000000</td>\n",
       "      <td>108.000000</td>\n",
       "      <td>108.000000</td>\n",
       "    </tr>\n",
       "    <tr>\n",
       "      <th>mean</th>\n",
       "      <td>56.046296</td>\n",
       "      <td>46.555556</td>\n",
       "      <td>166.574074</td>\n",
       "      <td>59.490741</td>\n",
       "      <td>20.549074</td>\n",
       "    </tr>\n",
       "    <tr>\n",
       "      <th>std</th>\n",
       "      <td>31.917939</td>\n",
       "      <td>24.720620</td>\n",
       "      <td>27.873615</td>\n",
       "      <td>28.856233</td>\n",
       "      <td>7.583818</td>\n",
       "    </tr>\n",
       "    <tr>\n",
       "      <th>min</th>\n",
       "      <td>1.000000</td>\n",
       "      <td>11.000000</td>\n",
       "      <td>120.000000</td>\n",
       "      <td>10.000000</td>\n",
       "      <td>3.900000</td>\n",
       "    </tr>\n",
       "    <tr>\n",
       "      <th>25%</th>\n",
       "      <td>28.750000</td>\n",
       "      <td>27.000000</td>\n",
       "      <td>140.000000</td>\n",
       "      <td>35.000000</td>\n",
       "      <td>16.700000</td>\n",
       "    </tr>\n",
       "    <tr>\n",
       "      <th>50%</th>\n",
       "      <td>56.500000</td>\n",
       "      <td>42.500000</td>\n",
       "      <td>175.000000</td>\n",
       "      <td>55.000000</td>\n",
       "      <td>21.200000</td>\n",
       "    </tr>\n",
       "    <tr>\n",
       "      <th>75%</th>\n",
       "      <td>83.250000</td>\n",
       "      <td>59.250000</td>\n",
       "      <td>190.000000</td>\n",
       "      <td>85.000000</td>\n",
       "      <td>26.100000</td>\n",
       "    </tr>\n",
       "    <tr>\n",
       "      <th>max</th>\n",
       "      <td>110.000000</td>\n",
       "      <td>112.000000</td>\n",
       "      <td>210.000000</td>\n",
       "      <td>120.000000</td>\n",
       "      <td>37.200000</td>\n",
       "    </tr>\n",
       "  </tbody>\n",
       "</table>\n",
       "</div>"
      ],
      "text/plain": [
       "               ID         Age      Height      Weight         BMI\n",
       "count  108.000000  108.000000  108.000000  108.000000  108.000000\n",
       "mean    56.046296   46.555556  166.574074   59.490741   20.549074\n",
       "std     31.917939   24.720620   27.873615   28.856233    7.583818\n",
       "min      1.000000   11.000000  120.000000   10.000000    3.900000\n",
       "25%     28.750000   27.000000  140.000000   35.000000   16.700000\n",
       "50%     56.500000   42.500000  175.000000   55.000000   21.200000\n",
       "75%     83.250000   59.250000  190.000000   85.000000   26.100000\n",
       "max    110.000000  112.000000  210.000000  120.000000   37.200000"
      ]
     },
     "execution_count": 17,
     "metadata": {},
     "output_type": "execute_result"
    }
   ],
   "source": [
    "df_obesity.describe()"
   ]
  },
  {
   "cell_type": "code",
   "execution_count": 18,
   "id": "3d9310f7-2a83-4659-9bed-e235a1ac945d",
   "metadata": {},
   "outputs": [
    {
     "name": "stdout",
     "output_type": "stream",
     "text": [
      "Age skewness:  0.8218145354429981\n"
     ]
    }
   ],
   "source": [
    "skewAge = df_obesity.Age.skew(axis=0, skipna=True)\n",
    "print(\"Age skewness: \", skewAge)"
   ]
  },
  {
   "cell_type": "code",
   "execution_count": 19,
   "id": "eecfd5d4-8af4-498d-91a7-6cf9a4f864ac",
   "metadata": {},
   "outputs": [
    {
     "name": "stdout",
     "output_type": "stream",
     "text": [
      "Height skewness:  -0.1128884013923235\n"
     ]
    }
   ],
   "source": [
    "skewHeight = df_obesity.Height.skew(axis=0, skipna=True)\n",
    "print(\"Height skewness: \", skewHeight)"
   ]
  },
  {
   "cell_type": "code",
   "execution_count": 20,
   "id": "ff14946b-b74a-428c-b409-cefb30dd5566",
   "metadata": {},
   "outputs": [
    {
     "name": "stderr",
     "output_type": "stream",
     "text": [
      "/tmp/ipykernel_245/1085505615.py:1: UserWarning: \n",
      "\n",
      "`distplot` is a deprecated function and will be removed in seaborn v0.14.0.\n",
      "\n",
      "Please adapt your code to use either `displot` (a figure-level function with\n",
      "similar flexibility) or `histplot` (an axes-level function for histograms).\n",
      "\n",
      "For a guide to updating your code to use the new functions, please see\n",
      "https://gist.github.com/mwaskom/de44147ed2974457ad6372750bbe5751\n",
      "\n",
      "  sns.distplot(df_obesity['Age'])\n"
     ]
    },
    {
     "data": {
      "text/plain": [
       "<Axes: xlabel='Age', ylabel='Density'>"
      ]
     },
     "execution_count": 20,
     "metadata": {},
     "output_type": "execute_result"
    },
    {
     "data": {
      "image/png": "[encoded data removed]",
      "text/plain": [
       "<Figure size 640x480 with 1 Axes>"
      ]
     },
     "metadata": {},
     "output_type": "display_data"
    }
   ],
   "source": [
    "sns.distplot(df_obesity['Age'])"
   ]
  },
  {
   "cell_type": "code",
   "execution_count": 21,
   "id": "c113f493-1f32-436c-8c9f-e2247725dd60",
   "metadata": {},
   "outputs": [
    {
     "name": "stderr",
     "output_type": "stream",
     "text": [
      "/tmp/ipykernel_245/2020559984.py:1: UserWarning: \n",
      "\n",
      "`distplot` is a deprecated function and will be removed in seaborn v0.14.0.\n",
      "\n",
      "Please adapt your code to use either `displot` (a figure-level function with\n",
      "similar flexibility) or `histplot` (an axes-level function for histograms).\n",
      "\n",
      "For a guide to updating your code to use the new functions, please see\n",
      "https://gist.github.com/mwaskom/de44147ed2974457ad6372750bbe5751\n",
      "\n",
      "  sns.distplot(df_obesity['Height'])\n"
     ]
    },
    {
     "data": {
      "text/plain": [
       "<Axes: xlabel='Height', ylabel='Density'>"
      ]
     },
     "execution_count": 21,
     "metadata": {},
     "output_type": "execute_result"
    },
    {
     "data": {
      "image/png": "[encoded data removed]",
      "text/plain": [
       "<Figure size 640x480 with 1 Axes>"
      ]
     },
     "metadata": {},
     "output_type": "display_data"
    }
   ],
   "source": [
    "sns.distplot(df_obesity['Height'])"
   ]
  },
  {
   "cell_type": "code",
   "execution_count": 22,
   "id": "63a89184-eeb2-4a76-a2e1-3496cdbc6046",
   "metadata": {},
   "outputs": [
    {
     "name": "stderr",
     "output_type": "stream",
     "text": [
      "/tmp/ipykernel_245/3613808228.py:1: UserWarning: \n",
      "\n",
      "`distplot` is a deprecated function and will be removed in seaborn v0.14.0.\n",
      "\n",
      "Please adapt your code to use either `displot` (a figure-level function with\n",
      "similar flexibility) or `histplot` (an axes-level function for histograms).\n",
      "\n",
      "For a guide to updating your code to use the new functions, please see\n",
      "https://gist.github.com/mwaskom/de44147ed2974457ad6372750bbe5751\n",
      "\n",
      "  sns.distplot(df_obesity['Weight'])\n"
     ]
    },
    {
     "data": {
      "text/plain": [
       "<Axes: xlabel='Weight', ylabel='Density'>"
      ]
     },
     "execution_count": 22,
     "metadata": {},
     "output_type": "execute_result"
    },
    {
     "data": {
      "image/png": "[encoded data removed]",
      "text/plain": [
       "<Figure size 640x480 with 1 Axes>"
      ]
     },
     "metadata": {},
     "output_type": "display_data"
    }
   ],
   "source": [
    "sns.distplot(df_obesity['Weight'])"
   ]
  },
  {
   "cell_type": "code",
   "execution_count": 23,
   "id": "f495586b-a3c7-4404-9ba1-bd08d44fd9d2",
   "metadata": {},
   "outputs": [
    {
     "name": "stderr",
     "output_type": "stream",
     "text": [
      "/tmp/ipykernel_245/1621991758.py:1: UserWarning: \n",
      "\n",
      "`distplot` is a deprecated function and will be removed in seaborn v0.14.0.\n",
      "\n",
      "Please adapt your code to use either `displot` (a figure-level function with\n",
      "similar flexibility) or `histplot` (an axes-level function for histograms).\n",
      "\n",
      "For a guide to updating your code to use the new functions, please see\n",
      "https://gist.github.com/mwaskom/de44147ed2974457ad6372750bbe5751\n",
      "\n",
      "  sns.distplot(df_obesity['BMI'])\n"
     ]
    },
    {
     "data": {
      "text/plain": [
       "<Axes: xlabel='BMI', ylabel='Density'>"
      ]
     },
     "execution_count": 23,
     "metadata": {},
     "output_type": "execute_result"
    },
    {
     "data": {
      "image/png": "[encoded data removed]",
      "text/plain": [
       "<Figure size 640x480 with 1 Axes>"
      ]
     },
     "metadata": {},
     "output_type": "display_data"
    }
   ],
   "source": [
    "sns.distplot(df_obesity['BMI'])"
   ]
  },
  {
   "cell_type": "markdown",
   "id": "6c34165d-1b13-4524-a88e-9d9a7ff419db",
   "metadata": {},
   "source": [
    "The distribution of Age is moderately skewed, between 0.5 and 1, and can be seen from the histogram\n",
    "The distribution of both height and weight seem to be normally distributed\n",
    "The distribution of BMI shows a small amount of skewness"
   ]
  },
  {
   "cell_type": "markdown",
   "id": "a95a7fb9-bdb0-40e8-b9e6-ec265f2fc7de",
   "metadata": {},
   "source": [
    "## Exploratory Data Analysis"
   ]
  },
  {
   "cell_type": "markdown",
   "id": "49a7b144-1772-43d6-b88e-ae3839094296",
   "metadata": {},
   "source": [
    "#### Label Distribution"
   ]
  },
  {
   "cell_type": "code",
   "execution_count": 27,
   "id": "d56b8a90-84e4-49f6-8510-24a09b53c0a9",
   "metadata": {},
   "outputs": [
    {
     "data": {
      "image/png": "[encoded data removed]",
      "text/plain": [
       "<Figure size 640x480 with 1 Axes>"
      ]
     },
     "metadata": {},
     "output_type": "display_data"
    }
   ],
   "source": [
    "sns.set_theme(style=\"darkgrid\")\n",
    "sns.countplot(y=\"Label\", data=df_obesity, palette=\"hls\")\n",
    "plt.ylabel('Weight Label')\n",
    "plt.xlabel('Total')\n",
    "plt.show()"
   ]
  },
  {
   "cell_type": "markdown",
   "id": "60f609b8-b7a1-4706-be78-7d87e4919eca",
   "metadata": {},
   "source": [
    "#### Gender Distribution"
   ]
  },
  {
   "cell_type": "code",
   "execution_count": 29,
   "id": "64e38518-3a94-46c7-b99b-3a86c50044c6",
   "metadata": {},
   "outputs": [
    {
     "data": {
      "image/png": "[encoded data removed]",
      "text/plain": [
       "<Figure size 640x480 with 1 Axes>"
      ]
     },
     "metadata": {},
     "output_type": "display_data"
    }
   ],
   "source": [
    "sns.set_theme(style=\"darkgrid\")\n",
    "sns.countplot(x=\"Gender\", data=df_obesity, palette=\"magma\")\n",
    "plt.xlabel('Gender')\n",
    "plt.ylabel('Total')\n",
    "plt.show()"
   ]
  },
  {
   "cell_type": "markdown",
   "id": "d0936325-4e42-45be-9187-da513b8dce11",
   "metadata": {},
   "source": [
    "#### Gender Distribution based on Weight Label"
   ]
  },
  {
   "cell_type": "code",
   "execution_count": 31,
   "id": "0b9d0f76-4846-42da-8778-cec2a9d18649",
   "metadata": {},
   "outputs": [
    {
     "data": {
      "image/png": "[encoded data removed]",
      "text/plain": [
       "<Figure size 1200x600 with 1 Axes>"
      ]
     },
     "metadata": {},
     "output_type": "display_data"
    }
   ],
   "source": [
    "pd.crosstab(df_obesity.Gender,df_obesity.Label).plot(kind=\"bar\",figsize=(12,6), color=['#8A2BE2','#87CEEB','#808080','#32CD32'])\n",
    "plt.title(\"Gender distribution based on Weight Label\")\n",
    "plt.xlabel(\"Gender\")\n",
    "plt.xticks(rotation=0)\n",
    "plt.ylabel(\"Weight\")\n",
    "plt.show()"
   ]
  },
  {
   "cell_type": "code",
   "execution_count": 32,
   "id": "01c1b531-f510-49c3-abd1-bfad346521f7",
   "metadata": {},
   "outputs": [
    {
     "data": {
      "image/png": "[encoded data removed]",
      "text/plain": [
       "<Figure size 640x480 with 1 Axes>"
      ]
     },
     "metadata": {},
     "output_type": "display_data"
    }
   ],
   "source": [
    "plt.scatter(x=df_obesity.Age[df_obesity.Gender=='Female'], y=df_obesity.BMI[(df_obesity.Gender=='Female')], c=\"Pink\")\n",
    "plt.scatter(x=df_obesity.Age[df_obesity.Gender=='Male'], y=df_obesity.BMI[(df_obesity.Gender=='Male')], c=\"Blue\")\n",
    "plt.legend([\"Female\", \"Male\"])\n",
    "plt.xlabel(\"Age\")\n",
    "plt.ylabel(\"BMI\")\n",
    "plt.show()\n"
   ]
  },
  {
   "cell_type": "markdown",
   "id": "575e4197-3890-4b99-b454-83e35211cef1",
   "metadata": {},
   "source": [
    "#### Weight distribution based on Age and Gender"
   ]
  },
  {
   "cell_type": "code",
   "execution_count": 34,
   "id": "ab26442a-4f95-4831-bd9c-fea66d3ea5ce",
   "metadata": {},
   "outputs": [
    {
     "data": {
      "image/png": "[encoded data removed]",
      "text/plain": [
       "<Figure size 640x480 with 1 Axes>"
      ]
     },
     "metadata": {},
     "output_type": "display_data"
    }
   ],
   "source": [
    "plt.scatter(x=df_obesity.Age[df_obesity.Gender=='Female'], y=df_obesity.Weight[(df_obesity.Gender=='Female')], c=\"Orange\")\n",
    "plt.scatter(x=df_obesity.Age[df_obesity.Gender=='Male'], y=df_obesity.Weight[(df_obesity.Gender=='Male')], c=\"Green\")\n",
    "plt.legend([\"Female\", \"Male\"])\n",
    "plt.xlabel(\"Age\")\n",
    "plt.ylabel(\"Weight\")\n",
    "plt.show()\n"
   ]
  },
  {
   "cell_type": "markdown",
   "id": "95ffdd0d-cdf3-46e6-951b-ef6f51840874",
   "metadata": {},
   "source": [
    "## Dataset Preparation"
   ]
  },
  {
   "cell_type": "markdown",
   "id": "a84e04b8-00ef-498b-a77a-fedfdcf6b005",
   "metadata": {},
   "source": [
    "### Custom Data Binning - Age"
   ]
  },
  {
   "cell_type": "code",
   "execution_count": 37,
   "id": "e1e4b627-3f75-4194-bd8d-b4c7031b33ab",
   "metadata": {},
   "outputs": [],
   "source": [
    "bin_age = [0, 20, 30, 40, 50, 60, 70, 80, 90]\n",
    "category_age = ['<20s', '20s', '30s', '40s', '50s', '60s','70s','>70s']\n",
    "df_obesity['Age_Bins'] = pd.cut(df_obesity['Age'], bins=bin_age, labels=category_age)\n",
    "\n",
    "df_obesity = df_obesity.drop(['Age'], axis=1)"
   ]
  },
  {
   "cell_type": "code",
   "execution_count": 38,
   "id": "63f04920-e527-4fdd-9108-24896a67330d",
   "metadata": {},
   "outputs": [
    {
     "data": {
      "text/html": [
       "<div>\n",
       "<style scoped>\n",
       "    .dataframe tbody tr th:only-of-type {\n",
       "        vertical-align: middle;\n",
       "    }\n",
       "\n",
       "    .dataframe tbody tr th {\n",
       "        vertical-align: top;\n",
       "    }\n",
       "\n",
       "    .dataframe thead th {\n",
       "        text-align: right;\n",
       "    }\n",
       "</style>\n",
       "<table border=\"1\" class=\"dataframe\">\n",
       "  <thead>\n",
       "    <tr style=\"text-align: right;\">\n",
       "      <th></th>\n",
       "      <th>ID</th>\n",
       "      <th>Gender</th>\n",
       "      <th>Height</th>\n",
       "      <th>Weight</th>\n",
       "      <th>BMI</th>\n",
       "      <th>Label</th>\n",
       "      <th>Age_Bins</th>\n",
       "    </tr>\n",
       "  </thead>\n",
       "  <tbody>\n",
       "    <tr>\n",
       "      <th>0</th>\n",
       "      <td>1</td>\n",
       "      <td>Male</td>\n",
       "      <td>175</td>\n",
       "      <td>80</td>\n",
       "      <td>25.3</td>\n",
       "      <td>Normal Weight</td>\n",
       "      <td>20s</td>\n",
       "    </tr>\n",
       "    <tr>\n",
       "      <th>1</th>\n",
       "      <td>2</td>\n",
       "      <td>Female</td>\n",
       "      <td>160</td>\n",
       "      <td>60</td>\n",
       "      <td>22.5</td>\n",
       "      <td>Normal Weight</td>\n",
       "      <td>20s</td>\n",
       "    </tr>\n",
       "    <tr>\n",
       "      <th>2</th>\n",
       "      <td>3</td>\n",
       "      <td>Male</td>\n",
       "      <td>180</td>\n",
       "      <td>90</td>\n",
       "      <td>27.3</td>\n",
       "      <td>Overweight</td>\n",
       "      <td>30s</td>\n",
       "    </tr>\n",
       "    <tr>\n",
       "      <th>3</th>\n",
       "      <td>4</td>\n",
       "      <td>Female</td>\n",
       "      <td>150</td>\n",
       "      <td>50</td>\n",
       "      <td>20.0</td>\n",
       "      <td>Underweight</td>\n",
       "      <td>30s</td>\n",
       "    </tr>\n",
       "    <tr>\n",
       "      <th>4</th>\n",
       "      <td>5</td>\n",
       "      <td>Male</td>\n",
       "      <td>190</td>\n",
       "      <td>100</td>\n",
       "      <td>31.2</td>\n",
       "      <td>Obese</td>\n",
       "      <td>40s</td>\n",
       "    </tr>\n",
       "    <tr>\n",
       "      <th>5</th>\n",
       "      <td>6</td>\n",
       "      <td>Female</td>\n",
       "      <td>140</td>\n",
       "      <td>40</td>\n",
       "      <td>16.7</td>\n",
       "      <td>Underweight</td>\n",
       "      <td>40s</td>\n",
       "    </tr>\n",
       "    <tr>\n",
       "      <th>6</th>\n",
       "      <td>7</td>\n",
       "      <td>Male</td>\n",
       "      <td>200</td>\n",
       "      <td>110</td>\n",
       "      <td>34.2</td>\n",
       "      <td>Obese</td>\n",
       "      <td>50s</td>\n",
       "    </tr>\n",
       "    <tr>\n",
       "      <th>7</th>\n",
       "      <td>8</td>\n",
       "      <td>Female</td>\n",
       "      <td>130</td>\n",
       "      <td>30</td>\n",
       "      <td>13.3</td>\n",
       "      <td>Underweight</td>\n",
       "      <td>50s</td>\n",
       "    </tr>\n",
       "    <tr>\n",
       "      <th>8</th>\n",
       "      <td>9</td>\n",
       "      <td>Male</td>\n",
       "      <td>210</td>\n",
       "      <td>120</td>\n",
       "      <td>37.2</td>\n",
       "      <td>Obese</td>\n",
       "      <td>60s</td>\n",
       "    </tr>\n",
       "    <tr>\n",
       "      <th>9</th>\n",
       "      <td>10</td>\n",
       "      <td>Female</td>\n",
       "      <td>120</td>\n",
       "      <td>20</td>\n",
       "      <td>10.0</td>\n",
       "      <td>Underweight</td>\n",
       "      <td>60s</td>\n",
       "    </tr>\n",
       "  </tbody>\n",
       "</table>\n",
       "</div>"
      ],
      "text/plain": [
       "   ID  Gender  Height  Weight   BMI          Label Age_Bins\n",
       "0   1    Male     175      80  25.3  Normal Weight      20s\n",
       "1   2  Female     160      60  22.5  Normal Weight      20s\n",
       "2   3    Male     180      90  27.3     Overweight      30s\n",
       "3   4  Female     150      50  20.0    Underweight      30s\n",
       "4   5    Male     190     100  31.2          Obese      40s\n",
       "5   6  Female     140      40  16.7    Underweight      40s\n",
       "6   7    Male     200     110  34.2          Obese      50s\n",
       "7   8  Female     130      30  13.3    Underweight      50s\n",
       "8   9    Male     210     120  37.2          Obese      60s\n",
       "9  10  Female     120      20  10.0    Underweight      60s"
      ]
     },
     "execution_count": 38,
     "metadata": {},
     "output_type": "execute_result"
    }
   ],
   "source": [
    "df_obesity.head(10)"
   ]
  },
  {
   "cell_type": "markdown",
   "id": "1b7537bb-84c5-4328-8e4d-45c9fa093306",
   "metadata": {},
   "source": [
    "## Train Test Split"
   ]
  },
  {
   "cell_type": "code",
   "execution_count": 40,
   "id": "cf56ddbe-e4ab-4bcc-b056-c0013353ab1b",
   "metadata": {},
   "outputs": [],
   "source": [
    "from sklearn.model_selection import train_test_split\n",
    "from sklearn.metrics import confusion_matrix, classification_report"
   ]
  },
  {
   "cell_type": "code",
   "execution_count": 41,
   "id": "688fd275-460c-45ad-8045-a276bf5035c3",
   "metadata": {},
   "outputs": [],
   "source": [
    "X = df_obesity.drop('Label', axis=1)\n",
    "y = df_obesity['Label']\n",
    "\n",
    "X_train, X_test, y_train, y_test = train_test_split(X, y, test_size=0.30, random_state=101)"
   ]
  },
  {
   "cell_type": "markdown",
   "id": "e6cf0ceb-324c-45a9-a26c-cf2bad70ea1f",
   "metadata": {},
   "source": [
    "## Feature Engineering: One-Hot Encoding"
   ]
  },
  {
   "cell_type": "code",
   "execution_count": 43,
   "id": "b6d6b4b4-263b-4536-b400-be63d52ab46e",
   "metadata": {},
   "outputs": [],
   "source": [
    "X_train = pd.get_dummies(X_train)\n",
    "X_test = pd.get_dummies(X_test)"
   ]
  },
  {
   "cell_type": "code",
   "execution_count": 44,
   "id": "22a96a81-65e9-4416-9471-f7f2213771d0",
   "metadata": {},
   "outputs": [
    {
     "data": {
      "text/html": [
       "<div>\n",
       "<style scoped>\n",
       "    .dataframe tbody tr th:only-of-type {\n",
       "        vertical-align: middle;\n",
       "    }\n",
       "\n",
       "    .dataframe tbody tr th {\n",
       "        vertical-align: top;\n",
       "    }\n",
       "\n",
       "    .dataframe thead th {\n",
       "        text-align: right;\n",
       "    }\n",
       "</style>\n",
       "<table border=\"1\" class=\"dataframe\">\n",
       "  <thead>\n",
       "    <tr style=\"text-align: right;\">\n",
       "      <th></th>\n",
       "      <th>ID</th>\n",
       "      <th>Height</th>\n",
       "      <th>Weight</th>\n",
       "      <th>BMI</th>\n",
       "      <th>Gender_Female</th>\n",
       "      <th>Gender_Male</th>\n",
       "      <th>Age_Bins_&lt;20s</th>\n",
       "      <th>Age_Bins_20s</th>\n",
       "      <th>Age_Bins_30s</th>\n",
       "      <th>Age_Bins_40s</th>\n",
       "      <th>Age_Bins_50s</th>\n",
       "      <th>Age_Bins_60s</th>\n",
       "      <th>Age_Bins_70s</th>\n",
       "      <th>Age_Bins_&gt;70s</th>\n",
       "    </tr>\n",
       "  </thead>\n",
       "  <tbody>\n",
       "    <tr>\n",
       "      <th>2</th>\n",
       "      <td>3</td>\n",
       "      <td>180</td>\n",
       "      <td>90</td>\n",
       "      <td>27.3</td>\n",
       "      <td>False</td>\n",
       "      <td>True</td>\n",
       "      <td>False</td>\n",
       "      <td>False</td>\n",
       "      <td>True</td>\n",
       "      <td>False</td>\n",
       "      <td>False</td>\n",
       "      <td>False</td>\n",
       "      <td>False</td>\n",
       "      <td>False</td>\n",
       "    </tr>\n",
       "    <tr>\n",
       "      <th>100</th>\n",
       "      <td>103</td>\n",
       "      <td>130</td>\n",
       "      <td>30</td>\n",
       "      <td>13.3</td>\n",
       "      <td>True</td>\n",
       "      <td>False</td>\n",
       "      <td>False</td>\n",
       "      <td>False</td>\n",
       "      <td>False</td>\n",
       "      <td>True</td>\n",
       "      <td>False</td>\n",
       "      <td>False</td>\n",
       "      <td>False</td>\n",
       "      <td>False</td>\n",
       "    </tr>\n",
       "    <tr>\n",
       "      <th>66</th>\n",
       "      <td>69</td>\n",
       "      <td>210</td>\n",
       "      <td>95</td>\n",
       "      <td>27.0</td>\n",
       "      <td>False</td>\n",
       "      <td>True</td>\n",
       "      <td>False</td>\n",
       "      <td>False</td>\n",
       "      <td>False</td>\n",
       "      <td>False</td>\n",
       "      <td>True</td>\n",
       "      <td>False</td>\n",
       "      <td>False</td>\n",
       "      <td>False</td>\n",
       "    </tr>\n",
       "    <tr>\n",
       "      <th>23</th>\n",
       "      <td>25</td>\n",
       "      <td>150</td>\n",
       "      <td>50</td>\n",
       "      <td>20.0</td>\n",
       "      <td>True</td>\n",
       "      <td>False</td>\n",
       "      <td>False</td>\n",
       "      <td>False</td>\n",
       "      <td>False</td>\n",
       "      <td>False</td>\n",
       "      <td>False</td>\n",
       "      <td>False</td>\n",
       "      <td>False</td>\n",
       "      <td>True</td>\n",
       "    </tr>\n",
       "    <tr>\n",
       "      <th>26</th>\n",
       "      <td>28</td>\n",
       "      <td>200</td>\n",
       "      <td>110</td>\n",
       "      <td>34.2</td>\n",
       "      <td>False</td>\n",
       "      <td>True</td>\n",
       "      <td>False</td>\n",
       "      <td>False</td>\n",
       "      <td>False</td>\n",
       "      <td>False</td>\n",
       "      <td>False</td>\n",
       "      <td>False</td>\n",
       "      <td>False</td>\n",
       "      <td>False</td>\n",
       "    </tr>\n",
       "  </tbody>\n",
       "</table>\n",
       "</div>"
      ],
      "text/plain": [
       "      ID  Height  Weight   BMI  Gender_Female  Gender_Male  Age_Bins_<20s  \\\n",
       "2      3     180      90  27.3          False         True          False   \n",
       "100  103     130      30  13.3           True        False          False   \n",
       "66    69     210      95  27.0          False         True          False   \n",
       "23    25     150      50  20.0           True        False          False   \n",
       "26    28     200     110  34.2          False         True          False   \n",
       "\n",
       "     Age_Bins_20s  Age_Bins_30s  Age_Bins_40s  Age_Bins_50s  Age_Bins_60s  \\\n",
       "2           False          True         False         False         False   \n",
       "100         False         False          True         False         False   \n",
       "66          False         False         False          True         False   \n",
       "23          False         False         False         False         False   \n",
       "26          False         False         False         False         False   \n",
       "\n",
       "     Age_Bins_70s  Age_Bins_>70s  \n",
       "2           False          False  \n",
       "100         False          False  \n",
       "66          False          False  \n",
       "23          False           True  \n",
       "26          False          False  "
      ]
     },
     "execution_count": 44,
     "metadata": {},
     "output_type": "execute_result"
    }
   ],
   "source": [
    "X_train.head()"
   ]
  },
  {
   "cell_type": "code",
   "execution_count": 45,
   "id": "e46609b4-1a2c-4581-b51a-f6e26a7643f4",
   "metadata": {},
   "outputs": [
    {
     "data": {
      "text/html": [
       "<div>\n",
       "<style scoped>\n",
       "    .dataframe tbody tr th:only-of-type {\n",
       "        vertical-align: middle;\n",
       "    }\n",
       "\n",
       "    .dataframe tbody tr th {\n",
       "        vertical-align: top;\n",
       "    }\n",
       "\n",
       "    .dataframe thead th {\n",
       "        text-align: right;\n",
       "    }\n",
       "</style>\n",
       "<table border=\"1\" class=\"dataframe\">\n",
       "  <thead>\n",
       "    <tr style=\"text-align: right;\">\n",
       "      <th></th>\n",
       "      <th>ID</th>\n",
       "      <th>Height</th>\n",
       "      <th>Weight</th>\n",
       "      <th>BMI</th>\n",
       "      <th>Gender_Female</th>\n",
       "      <th>Gender_Male</th>\n",
       "      <th>Age_Bins_&lt;20s</th>\n",
       "      <th>Age_Bins_20s</th>\n",
       "      <th>Age_Bins_30s</th>\n",
       "      <th>Age_Bins_40s</th>\n",
       "      <th>Age_Bins_50s</th>\n",
       "      <th>Age_Bins_60s</th>\n",
       "      <th>Age_Bins_70s</th>\n",
       "      <th>Age_Bins_&gt;70s</th>\n",
       "    </tr>\n",
       "  </thead>\n",
       "  <tbody>\n",
       "    <tr>\n",
       "      <th>58</th>\n",
       "      <td>61</td>\n",
       "      <td>175</td>\n",
       "      <td>55</td>\n",
       "      <td>21.2</td>\n",
       "      <td>False</td>\n",
       "      <td>True</td>\n",
       "      <td>True</td>\n",
       "      <td>False</td>\n",
       "      <td>False</td>\n",
       "      <td>False</td>\n",
       "      <td>False</td>\n",
       "      <td>False</td>\n",
       "      <td>False</td>\n",
       "      <td>False</td>\n",
       "    </tr>\n",
       "    <tr>\n",
       "      <th>21</th>\n",
       "      <td>23</td>\n",
       "      <td>160</td>\n",
       "      <td>60</td>\n",
       "      <td>22.5</td>\n",
       "      <td>True</td>\n",
       "      <td>False</td>\n",
       "      <td>False</td>\n",
       "      <td>False</td>\n",
       "      <td>False</td>\n",
       "      <td>False</td>\n",
       "      <td>False</td>\n",
       "      <td>False</td>\n",
       "      <td>True</td>\n",
       "      <td>False</td>\n",
       "    </tr>\n",
       "    <tr>\n",
       "      <th>1</th>\n",
       "      <td>2</td>\n",
       "      <td>160</td>\n",
       "      <td>60</td>\n",
       "      <td>22.5</td>\n",
       "      <td>True</td>\n",
       "      <td>False</td>\n",
       "      <td>False</td>\n",
       "      <td>True</td>\n",
       "      <td>False</td>\n",
       "      <td>False</td>\n",
       "      <td>False</td>\n",
       "      <td>False</td>\n",
       "      <td>False</td>\n",
       "      <td>False</td>\n",
       "    </tr>\n",
       "    <tr>\n",
       "      <th>31</th>\n",
       "      <td>33</td>\n",
       "      <td>180</td>\n",
       "      <td>85</td>\n",
       "      <td>26.1</td>\n",
       "      <td>False</td>\n",
       "      <td>True</td>\n",
       "      <td>False</td>\n",
       "      <td>True</td>\n",
       "      <td>False</td>\n",
       "      <td>False</td>\n",
       "      <td>False</td>\n",
       "      <td>False</td>\n",
       "      <td>False</td>\n",
       "      <td>False</td>\n",
       "    </tr>\n",
       "    <tr>\n",
       "      <th>16</th>\n",
       "      <td>17</td>\n",
       "      <td>200</td>\n",
       "      <td>100</td>\n",
       "      <td>31.2</td>\n",
       "      <td>False</td>\n",
       "      <td>True</td>\n",
       "      <td>False</td>\n",
       "      <td>False</td>\n",
       "      <td>False</td>\n",
       "      <td>True</td>\n",
       "      <td>False</td>\n",
       "      <td>False</td>\n",
       "      <td>False</td>\n",
       "      <td>False</td>\n",
       "    </tr>\n",
       "  </tbody>\n",
       "</table>\n",
       "</div>"
      ],
      "text/plain": [
       "    ID  Height  Weight   BMI  Gender_Female  Gender_Male  Age_Bins_<20s  \\\n",
       "58  61     175      55  21.2          False         True           True   \n",
       "21  23     160      60  22.5           True        False          False   \n",
       "1    2     160      60  22.5           True        False          False   \n",
       "31  33     180      85  26.1          False         True          False   \n",
       "16  17     200     100  31.2          False         True          False   \n",
       "\n",
       "    Age_Bins_20s  Age_Bins_30s  Age_Bins_40s  Age_Bins_50s  Age_Bins_60s  \\\n",
       "58         False         False         False         False         False   \n",
       "21         False         False         False         False         False   \n",
       "1           True         False         False         False         False   \n",
       "31          True         False         False         False         False   \n",
       "16         False         False          True         False         False   \n",
       "\n",
       "    Age_Bins_70s  Age_Bins_>70s  \n",
       "58         False          False  \n",
       "21          True          False  \n",
       "1          False          False  \n",
       "31         False          False  \n",
       "16         False          False  "
      ]
     },
     "execution_count": 45,
     "metadata": {},
     "output_type": "execute_result"
    }
   ],
   "source": [
    "X_test.head()"
   ]
  },
  {
   "cell_type": "code",
   "execution_count": 46,
   "id": "f500bcca-b118-4deb-bb3e-d49ebb300131",
   "metadata": {},
   "outputs": [
    {
     "data": {
      "text/plain": [
       "Label\n",
       "Underweight      47\n",
       "Normal Weight    29\n",
       "Overweight       20\n",
       "Obese            12\n",
       "Name: count, dtype: int64"
      ]
     },
     "execution_count": 46,
     "metadata": {},
     "output_type": "execute_result"
    }
   ],
   "source": [
    "df_obesity['Label'].value_counts()"
   ]
  },
  {
   "cell_type": "markdown",
   "id": "c21d81a3-6fbb-4059-9a45-d09cc3ee76bb",
   "metadata": {},
   "source": [
    "### SMOTE Technique\n",
    "\n",
    "There is an imbalance of 'Underweight' than other Labels, oversampling is carried out to avoid overfitting"
   ]
  },
  {
   "cell_type": "code",
   "execution_count": 48,
   "id": "9e791859-33c3-44ec-9026-3577d95d5f06",
   "metadata": {},
   "outputs": [],
   "source": [
    "from imblearn.over_sampling import SMOTE\n",
    "\n",
    "smote = SMOTE(sampling_strategy='auto', random_state=101)\n",
    "X_train, y_train = smote.fit_resample(X_train, y_train)"
   ]
  },
  {
   "cell_type": "code",
   "execution_count": 49,
   "id": "87c041b2-8212-48cf-940d-baa27fe2e625",
   "metadata": {},
   "outputs": [
    {
     "data": {
      "image/png": "[encoded data removed]",
      "text/plain": [
       "<Figure size 640x480 with 1 Axes>"
      ]
     },
     "metadata": {},
     "output_type": "display_data"
    }
   ],
   "source": [
    "sns.set_theme(style=\"darkgrid\")\n",
    "sns.countplot(y=y_train, data=df_obesity, palette=\"mako_r\")\n",
    "plt.ylabel('Weight Label')\n",
    "plt.xlabel('Total')\n",
    "plt.show()"
   ]
  },
  {
   "cell_type": "markdown",
   "id": "c1aca1b8-0787-447f-a3a3-be10dcb788f6",
   "metadata": {},
   "source": [
    "Distribution of Weight Labels are now balanced"
   ]
  },
  {
   "cell_type": "markdown",
   "id": "dc086bed-13b0-4688-a8ac-05e91887a262",
   "metadata": {},
   "source": [
    "## Modeling Section"
   ]
  },
  {
   "cell_type": "markdown",
   "id": "7221cf9e-363e-495f-a9e7-5c28cf45260a",
   "metadata": {},
   "source": [
    "### Random Forest Classifier"
   ]
  },
  {
   "cell_type": "code",
   "execution_count": 53,
   "id": "ed13728d-dd33-48ef-bc56-88a2c553717f",
   "metadata": {},
   "outputs": [
    {
     "name": "stdout",
     "output_type": "stream",
     "text": [
      "               precision    recall  f1-score   support\n",
      "\n",
      "Normal Weight       0.92      1.00      0.96        11\n",
      "        Obese       1.00      1.00      1.00         3\n",
      "   Overweight       1.00      0.89      0.94         9\n",
      "  Underweight       1.00      1.00      1.00        10\n",
      "\n",
      "     accuracy                           0.97        33\n",
      "    macro avg       0.98      0.97      0.97        33\n",
      " weighted avg       0.97      0.97      0.97        33\n",
      "\n",
      "\n",
      "\n",
      "[[11  0  0  0]\n",
      " [ 0  3  0  0]\n",
      " [ 1  0  8  0]\n",
      " [ 0  0  0 10]]\n",
      "Random Forest Classifier accuracy is: 96.96969696969697\n"
     ]
    }
   ],
   "source": [
    "from sklearn.ensemble import RandomForestClassifier\n",
    "\n",
    "rfc = RandomForestClassifier(max_leaf_nodes=13)\n",
    "rfc.fit(X_train, y_train)\n",
    "\n",
    "pred = rfc.predict(X_test)\n",
    "\n",
    "print(classification_report(y_test, pred))\n",
    "print('\\n')\n",
    "print(confusion_matrix(y_test, pred))\n",
    "\n",
    "from sklearn.metrics import accuracy_score\n",
    "rfcaccuracy = accuracy_score(pred, y_test)\n",
    "print(f'Random Forest Classifier accuracy is: {rfcaccuracy*100}')"
   ]
  },
  {
   "cell_type": "code",
   "execution_count": 54,
   "id": "de2a81fd-73dc-4ce1-9bbd-bf7a15eb5f32",
   "metadata": {},
   "outputs": [
    {
     "data": {
      "image/png": "[encoded data removed]",
      "text/plain": [
       "<Figure size 640x480 with 1 Axes>"
      ]
     },
     "metadata": {},
     "output_type": "display_data"
    },
    {
     "name": "stdout",
     "output_type": "stream",
     "text": [
      "RF Acc Max 96.97%\n"
     ]
    }
   ],
   "source": [
    "scoreListRF = []\n",
    "for i in range(2,50):\n",
    "    rfc = RandomForestClassifier(n_estimators = 1000, random_state = 1, max_leaf_nodes=i)\n",
    "    rfc.fit(X_train, y_train)\n",
    "    scoreListRF.append(rfc.score(X_test, y_test))\n",
    "    \n",
    "plt.plot(range(2,50), scoreListRF)\n",
    "plt.xticks(np.arange(2,50,5))\n",
    "plt.xlabel(\"RF Value\")\n",
    "plt.ylabel(\"Score\")\n",
    "plt.show()\n",
    "RFAccMax = max(scoreListRF)\n",
    "print(\"RF Acc Max {:.2f}%\".format(RFAccMax*100))"
   ]
  },
  {
   "cell_type": "raw",
   "id": "73bdfb16-a175-48e5-b6de-19a1d07f641d",
   "metadata": {},
   "source": []
  },
  {
   "cell_type": "markdown",
   "id": "e5f83433-aa56-49e3-9026-b3c532fab646",
   "metadata": {},
   "source": [
    "### Logistic Regression"
   ]
  },
  {
   "cell_type": "code",
   "execution_count": 56,
   "id": "f4ca3ea1-4c57-4b16-a024-c63cec53f7b0",
   "metadata": {},
   "outputs": [
    {
     "name": "stdout",
     "output_type": "stream",
     "text": [
      "               precision    recall  f1-score   support\n",
      "\n",
      "Normal Weight       0.92      1.00      0.96        11\n",
      "        Obese       1.00      1.00      1.00         3\n",
      "   Overweight       1.00      1.00      1.00         9\n",
      "  Underweight       1.00      0.90      0.95        10\n",
      "\n",
      "     accuracy                           0.97        33\n",
      "    macro avg       0.98      0.97      0.98        33\n",
      " weighted avg       0.97      0.97      0.97        33\n",
      "\n",
      "\n",
      "\n",
      "[[11  0  0  0]\n",
      " [ 0  3  0  0]\n",
      " [ 0  0  9  0]\n",
      " [ 1  0  0  9]]\n",
      "Logistic Regression Accuracy is: 96.96969696969697\n"
     ]
    },
    {
     "name": "stderr",
     "output_type": "stream",
     "text": [
      "/home/4c4ed4e1-0afe-482c-adec-434f4f1f1cb5/.local/lib/python3.11/site-packages/sklearn/utils/optimize.py:210: ConvergenceWarning: newton-cg failed to converge. Increase the number of iterations.\n",
      "  warnings.warn(\n"
     ]
    }
   ],
   "source": [
    "from sklearn.linear_model import LogisticRegression\n",
    "\n",
    "lrm = LogisticRegression(solver='newton-cg', max_iter=100)\n",
    "lrm.fit(X_train, y_train)\n",
    "\n",
    "pred = lrm.predict(X_test)\n",
    "\n",
    "print(classification_report(y_test, pred))\n",
    "print('\\n')\n",
    "print(confusion_matrix(y_test, pred))\n",
    "\n",
    "from sklearn.metrics import accuracy_score\n",
    "lrmAccuracy = accuracy_score(pred,y_test)\n",
    "print(\"Logistic Regression Accuracy is: {}\".format(lrmAccuracy*100))"
   ]
  },
  {
   "cell_type": "raw",
   "id": "a295bce9-ee97-42d1-b520-8515b4647870",
   "metadata": {},
   "source": []
  },
  {
   "cell_type": "markdown",
   "id": "e5392cf5-a0f4-48c6-8390-44fc4be21a89",
   "metadata": {},
   "source": [
    "### K Nearest Neighbors"
   ]
  },
  {
   "cell_type": "code",
   "execution_count": 58,
   "id": "8c61390c-5f04-474d-8891-232274d1929a",
   "metadata": {},
   "outputs": [
    {
     "name": "stdout",
     "output_type": "stream",
     "text": [
      "               precision    recall  f1-score   support\n",
      "\n",
      "Normal Weight       0.82      0.82      0.82        11\n",
      "        Obese       0.75      1.00      0.86         3\n",
      "   Overweight       0.86      0.67      0.75         9\n",
      "  Underweight       0.91      1.00      0.95        10\n",
      "\n",
      "     accuracy                           0.85        33\n",
      "    macro avg       0.83      0.87      0.84        33\n",
      " weighted avg       0.85      0.85      0.84        33\n",
      "\n",
      "\n",
      "\n",
      "[[ 9  0  1  1]\n",
      " [ 0  3  0  0]\n",
      " [ 2  1  6  0]\n",
      " [ 0  0  0 10]]\n",
      "KNN Accuracy is: 84.84848484848484\n"
     ]
    }
   ],
   "source": [
    "from sklearn.neighbors import KNeighborsClassifier\n",
    "knn = KNeighborsClassifier(n_neighbors=6)\n",
    "knn.fit(X_train, y_train)\n",
    "\n",
    "pred = knn.predict(X_test)\n",
    "\n",
    "print(classification_report(y_test, pred))\n",
    "print('\\n')\n",
    "print(confusion_matrix(y_test, pred))\n",
    "\n",
    "from sklearn.metrics import accuracy_score\n",
    "knnAccuracy = accuracy_score(pred,y_test)\n",
    "print(\"KNN Accuracy is: {}\".format(knnAccuracy*100))"
   ]
  },
  {
   "cell_type": "code",
   "execution_count": 59,
   "id": "bcf20d97-7b4c-4940-806d-66bdfce9a1d1",
   "metadata": {},
   "outputs": [
    {
     "data": {
      "image/png": "[encoded data removed]",
      "text/plain": [
       "<Figure size 640x480 with 1 Axes>"
      ]
     },
     "metadata": {},
     "output_type": "display_data"
    },
    {
     "name": "stdout",
     "output_type": "stream",
     "text": [
      "KNN Acc Max 84.85%\n"
     ]
    }
   ],
   "source": [
    "scoreListknn = []\n",
    "for i in range(1,40):\n",
    "    knn = KNeighborsClassifier(n_neighbors = i)\n",
    "    knn.fit(X_train, y_train)\n",
    "    scoreListknn.append(knn.score(X_test, y_test))\n",
    "    \n",
    "plt.plot(range(1,40), scoreListknn)\n",
    "plt.xticks(np.arange(1,40,1))\n",
    "plt.xlabel(\"K value\")\n",
    "plt.ylabel(\"Score\")\n",
    "plt.show()\n",
    "KNAccMax = max(scoreListknn)\n",
    "print(\"KNN Acc Max {:.2f}%\".format(KNAccMax*100))"
   ]
  },
  {
   "cell_type": "markdown",
   "id": "47953dde-739b-4444-9c68-b13ba3823e18",
   "metadata": {},
   "source": [
    "## Model Comparison"
   ]
  },
  {
   "cell_type": "code",
   "execution_count": 61,
   "id": "dbd51779-8c0a-4330-8352-6691c412d457",
   "metadata": {},
   "outputs": [
    {
     "data": {
      "text/html": [
       "<div>\n",
       "<style scoped>\n",
       "    .dataframe tbody tr th:only-of-type {\n",
       "        vertical-align: middle;\n",
       "    }\n",
       "\n",
       "    .dataframe tbody tr th {\n",
       "        vertical-align: top;\n",
       "    }\n",
       "\n",
       "    .dataframe thead th {\n",
       "        text-align: right;\n",
       "    }\n",
       "</style>\n",
       "<table border=\"1\" class=\"dataframe\">\n",
       "  <thead>\n",
       "    <tr style=\"text-align: right;\">\n",
       "      <th></th>\n",
       "      <th>Model</th>\n",
       "      <th>Accuracy</th>\n",
       "    </tr>\n",
       "  </thead>\n",
       "  <tbody>\n",
       "    <tr>\n",
       "      <th>0</th>\n",
       "      <td>Random Forest Classifier</td>\n",
       "      <td>96.969697</td>\n",
       "    </tr>\n",
       "    <tr>\n",
       "      <th>1</th>\n",
       "      <td>Logistic Regression</td>\n",
       "      <td>96.969697</td>\n",
       "    </tr>\n",
       "    <tr>\n",
       "      <th>2</th>\n",
       "      <td>K Nearest Neighbors</td>\n",
       "      <td>84.848485</td>\n",
       "    </tr>\n",
       "  </tbody>\n",
       "</table>\n",
       "</div>"
      ],
      "text/plain": [
       "                      Model   Accuracy\n",
       "0  Random Forest Classifier  96.969697\n",
       "1       Logistic Regression  96.969697\n",
       "2       K Nearest Neighbors  84.848485"
      ]
     },
     "execution_count": 61,
     "metadata": {},
     "output_type": "execute_result"
    }
   ],
   "source": [
    "compare = pd.DataFrame({\n",
    "                    'Model': ['Random Forest Classifier', 'Logistic Regression', 'K Nearest Neighbors'],\n",
    "                    'Accuracy': [RFAccMax*100, lrmAccuracy*100, KNAccMax*100]\n",
    "})\n",
    "compare.sort_values(by='Accuracy', ascending=False)\n",
    "\n"
   ]
  },
  {
   "cell_type": "markdown",
   "id": "13bfc303-2b82-4f0b-9fd5-22e5cb77ddf3",
   "metadata": {},
   "source": [
    "## Output \n",
    "Output predictions to a csv file"
   ]
  },
  {
   "cell_type": "code",
   "execution_count": 63,
   "id": "e32e3f73-d929-4314-8679-5cfb0707d0f0",
   "metadata": {},
   "outputs": [],
   "source": [
    "pred_rfc = rfc.predict(X_test)\n",
    "\n",
    "prediction = pd.DataFrame({\n",
    "            'ID': X_test.loc[:, \"ID\"],\n",
    "            'Height':X_test.loc[:, \"Height\"],\n",
    "            'Weight':X_test.loc[:, \"Weight\"],\n",
    "            'BMI':X_test.loc[:, \"BMI\"],\n",
    "            'Gender_Female':X_test.loc[:, \"Gender_Female\"],\n",
    "            'Gender_Male':X_test.loc[:, \"Gender_Male\"],\n",
    "            'Age_Bins_<20s':X_test.loc[:, \"Age_Bins_<20s\"],\n",
    "            'Age_Bins_20s':X_test.loc[:, \"Age_Bins_20s\"],\n",
    "            'Age_Bins_30s':X_test.loc[:, \"Age_Bins_30s\"],\n",
    "            'Age_Bins_40s':X_test.loc[:, \"Age_Bins_40s\"],\n",
    "            'Age_Bins_50s':X_test.loc[:, \"Age_Bins_50s\"],\n",
    "            'Age_Bins_60s':X_test.loc[:, \"Age_Bins_60s\"],\n",
    "            'Age_Bins_70s':X_test.loc[:, \"Age_Bins_70s\"],\n",
    "            'Age_Bins_>70s':X_test.loc[:, \"Age_Bins_>70s\"],\n",
    "            'Label': pred_rfc\n",
    "})"
   ]
  },
  {
   "cell_type": "code",
   "execution_count": 64,
   "id": "b9fd407e-f490-42bc-af1d-3f4804f8c991",
   "metadata": {},
   "outputs": [],
   "source": [
    "# Gender\n",
    "prediction['Gender_Female'] = prediction['Gender_Female'].replace([True, False], ['Female', 'Male'])\n",
    "\n",
    "\n",
    "\n",
    "# Age_binned\n",
    "prediction['Age_Bins_<20s'] = prediction['Age_Bins_<20s'].replace([True, False],['<20s',''])\n",
    "prediction['Age_Bins_20s'] = prediction['Age_Bins_20s'].replace([True, False],['20s',''])\n",
    "prediction['Age_Bins_30s'] = prediction['Age_Bins_30s'].replace([True, False],['30s',''])\n",
    "prediction['Age_Bins_40s'] = prediction['Age_Bins_40s'].replace([True, False],['40s',''])\n",
    "prediction['Age_Bins_50s'] = prediction['Age_Bins_50s'].replace([True, False],['50s',''])\n",
    "prediction['Age_Bins_60s'] = prediction['Age_Bins_60s'].replace([True, False],['60s',''])\n",
    "prediction['Age_Bins_70s'] = prediction['Age_Bins_70s'].replace([True, False],['70s',''])\n",
    "prediction['Age_Bins_>70s'] = prediction['Age_Bins_>70s'].replace([True, False],['>70s',''])\n",
    "\n",
    "\n",
    "prediction['Age_Bins_<20s'] = np.where((prediction['Age_Bins_<20s'] == ''), prediction['Age_Bins_20s'], prediction['Age_Bins_<20s'])\n",
    "prediction['Age_Bins_<20s'] = np.where((prediction['Age_Bins_<20s'] == ''), prediction['Age_Bins_30s'], prediction['Age_Bins_<20s'])\n",
    "prediction['Age_Bins_<20s'] = np.where((prediction['Age_Bins_<20s'] == ''), prediction['Age_Bins_40s'], prediction['Age_Bins_<20s'])\n",
    "prediction['Age_Bins_<20s'] = np.where((prediction['Age_Bins_<20s'] == ''), prediction['Age_Bins_50s'], prediction['Age_Bins_<20s'])\n",
    "prediction['Age_Bins_<20s'] = np.where((prediction['Age_Bins_<20s'] == ''), prediction['Age_Bins_60s'], prediction['Age_Bins_<20s'])\n",
    "prediction['Age_Bins_<20s'] = np.where((prediction['Age_Bins_<20s'] == ''), prediction['Age_Bins_60s'], prediction['Age_Bins_<20s'])\n",
    "prediction['Age_Bins_<20s'] = np.where((prediction['Age_Bins_<20s'] == ''), prediction['Age_Bins_70s'], prediction['Age_Bins_<20s'])\n",
    "prediction['Age_Bins_<20s'] = np.where((prediction['Age_Bins_<20s'] == ''), prediction['Age_Bins_>70s'], prediction['Age_Bins_<20s'])\n",
    "\n",
    "# Drop Columns\n",
    "\n",
    "prediction = prediction.drop(['Gender_Male', \n",
    "                              'Age_Bins_20s', 'Age_Bins_30s', 'Age_Bins_40s', \n",
    "                             'Age_Bins_50s', 'Age_Bins_60s', 'Age_Bins_70s', 'Age_Bins_>70s'], axis=1)\n",
    "\n",
    "# Rename column names\n",
    "new_name = {'Gender_Female': 'Gender', 'Age_Bins_<20s': 'Age_Binnned'}\n",
    "prediction.rename(columns=new_name, inplace=True) "
   ]
  },
  {
   "cell_type": "markdown",
   "id": "15c9c2c3-e0d7-4127-b374-6a8d213854fc",
   "metadata": {},
   "source": [
    "## Generating output file (CSV)"
   ]
  },
  {
   "cell_type": "code",
   "execution_count": 66,
   "id": "72e80f5e-0ac4-45f4-b42c-7c169fb7478a",
   "metadata": {},
   "outputs": [
    {
     "data": {
      "text/html": [
       "<div>\n",
       "<style scoped>\n",
       "    .dataframe tbody tr th:only-of-type {\n",
       "        vertical-align: middle;\n",
       "    }\n",
       "\n",
       "    .dataframe tbody tr th {\n",
       "        vertical-align: top;\n",
       "    }\n",
       "\n",
       "    .dataframe thead th {\n",
       "        text-align: right;\n",
       "    }\n",
       "</style>\n",
       "<table border=\"1\" class=\"dataframe\">\n",
       "  <thead>\n",
       "    <tr style=\"text-align: right;\">\n",
       "      <th></th>\n",
       "      <th>ID</th>\n",
       "      <th>Height</th>\n",
       "      <th>Weight</th>\n",
       "      <th>BMI</th>\n",
       "      <th>Gender</th>\n",
       "      <th>Age_Binnned</th>\n",
       "      <th>Label</th>\n",
       "    </tr>\n",
       "  </thead>\n",
       "  <tbody>\n",
       "    <tr>\n",
       "      <th>0</th>\n",
       "      <td>61</td>\n",
       "      <td>175</td>\n",
       "      <td>55</td>\n",
       "      <td>21.2</td>\n",
       "      <td>Male</td>\n",
       "      <td>&lt;20s</td>\n",
       "      <td>Normal Weight</td>\n",
       "    </tr>\n",
       "    <tr>\n",
       "      <th>1</th>\n",
       "      <td>23</td>\n",
       "      <td>160</td>\n",
       "      <td>60</td>\n",
       "      <td>22.5</td>\n",
       "      <td>Female</td>\n",
       "      <td>70s</td>\n",
       "      <td>Normal Weight</td>\n",
       "    </tr>\n",
       "    <tr>\n",
       "      <th>2</th>\n",
       "      <td>2</td>\n",
       "      <td>160</td>\n",
       "      <td>60</td>\n",
       "      <td>22.5</td>\n",
       "      <td>Female</td>\n",
       "      <td>20s</td>\n",
       "      <td>Normal Weight</td>\n",
       "    </tr>\n",
       "    <tr>\n",
       "      <th>3</th>\n",
       "      <td>33</td>\n",
       "      <td>180</td>\n",
       "      <td>85</td>\n",
       "      <td>26.1</td>\n",
       "      <td>Male</td>\n",
       "      <td>20s</td>\n",
       "      <td>Normal Weight</td>\n",
       "    </tr>\n",
       "    <tr>\n",
       "      <th>4</th>\n",
       "      <td>17</td>\n",
       "      <td>200</td>\n",
       "      <td>100</td>\n",
       "      <td>31.2</td>\n",
       "      <td>Male</td>\n",
       "      <td>40s</td>\n",
       "      <td>Obese</td>\n",
       "    </tr>\n",
       "  </tbody>\n",
       "</table>\n",
       "</div>"
      ],
      "text/plain": [
       "   ID  Height  Weight   BMI  Gender Age_Binnned          Label\n",
       "0  61     175      55  21.2    Male        <20s  Normal Weight\n",
       "1  23     160      60  22.5  Female         70s  Normal Weight\n",
       "2   2     160      60  22.5  Female         20s  Normal Weight\n",
       "3  33     180      85  26.1    Male         20s  Normal Weight\n",
       "4  17     200     100  31.2    Male         40s          Obese"
      ]
     },
     "execution_count": 66,
     "metadata": {},
     "output_type": "execute_result"
    }
   ],
   "source": [
    "prediction.to_csv('prediction.csv', index=False)\n",
    "predictioncsv = pd.read_csv('./prediction.csv')\n",
    "predictioncsv.head()"
   ]
  },
  {
   "cell_type": "code",
   "execution_count": null,
   "id": "146013eb-3ecd-4b59-b7bf-6694ee0eded5",
   "metadata": {},
   "outputs": [],
   "source": []
  }
 ],
 "metadata": {
  "kernelspec": {
   "display_name": "anaconda-panel-2023.05-py310",
   "language": "python",
   "name": "conda-env-anaconda-panel-2023.05-py310-py"
  },
  "language_info": {
   "codemirror_mode": {
    "name": "ipython",
    "version": 3
   },
   "file_extension": ".py",
   "mimetype": "text/x-python",
   "name": "python",
   "nbconvert_exporter": "python",
   "pygments_lexer": "ipython3",
   "version": "3.11.5"
  }
 },
 "nbformat": 4,
 "nbformat_minor": 5
}
